{
 "cells": [
  {
   "cell_type": "code",
   "execution_count": 1,
   "metadata": {},
   "outputs": [],
   "source": [
    "import numpy as np\n",
    "import os\n",
    "os.environ[\"CUDA_DEVICE_ORDER\"]=\"PCI_BUS_ID\"   \n",
    "os.environ[\"CUDA_VISIBLE_DEVICES\"]=\"0\"\n",
    "import tensorflow as tf\n",
    "import tensorflow.compat.v1 as tfc\n",
    "gpu_options = tf.compat.v1.GPUOptions(allow_growth=True)\n",
    "session = tfc.InteractiveSession(config=tf.compat.v1.ConfigProto(gpu_options=gpu_options))\n",
    "\n",
    "import pandas as pd"
   ]
  },
  {
   "cell_type": "code",
   "execution_count": 2,
   "metadata": {},
   "outputs": [
    {
     "data": {
      "text/html": [
       "<div>\n",
       "<style scoped>\n",
       "    .dataframe tbody tr th:only-of-type {\n",
       "        vertical-align: middle;\n",
       "    }\n",
       "\n",
       "    .dataframe tbody tr th {\n",
       "        vertical-align: top;\n",
       "    }\n",
       "\n",
       "    .dataframe thead th {\n",
       "        text-align: right;\n",
       "    }\n",
       "</style>\n",
       "<table border=\"1\" class=\"dataframe\">\n",
       "  <thead>\n",
       "    <tr style=\"text-align: right;\">\n",
       "      <th></th>\n",
       "      <th>reviewerID</th>\n",
       "      <th>asin</th>\n",
       "      <th>reviewerName</th>\n",
       "      <th>helpful</th>\n",
       "      <th>reviewText</th>\n",
       "      <th>overall</th>\n",
       "      <th>summary</th>\n",
       "      <th>unixReviewTime</th>\n",
       "      <th>reviewTime</th>\n",
       "    </tr>\n",
       "  </thead>\n",
       "  <tbody>\n",
       "    <tr>\n",
       "      <th>0</th>\n",
       "      <td>A11N155CW1UV02</td>\n",
       "      <td>B000H00VBQ</td>\n",
       "      <td>AdrianaM</td>\n",
       "      <td>[0, 0]</td>\n",
       "      <td>I had big expectations because I love English ...</td>\n",
       "      <td>2</td>\n",
       "      <td>A little bit boring for me</td>\n",
       "      <td>1399075200</td>\n",
       "      <td>05 3, 2014</td>\n",
       "    </tr>\n",
       "    <tr>\n",
       "      <th>1</th>\n",
       "      <td>A3BC8O2KCL29V2</td>\n",
       "      <td>B000H00VBQ</td>\n",
       "      <td>Carol T</td>\n",
       "      <td>[0, 0]</td>\n",
       "      <td>I highly recommend this series. It is a must f...</td>\n",
       "      <td>5</td>\n",
       "      <td>Excellent Grown Up TV</td>\n",
       "      <td>1346630400</td>\n",
       "      <td>09 3, 2012</td>\n",
       "    </tr>\n",
       "    <tr>\n",
       "      <th>2</th>\n",
       "      <td>A60D5HQFOTSOM</td>\n",
       "      <td>B000H00VBQ</td>\n",
       "      <td>Daniel Cooper \"dancoopermedia\"</td>\n",
       "      <td>[0, 1]</td>\n",
       "      <td>This one is a real snoozer. Don't believe anyt...</td>\n",
       "      <td>1</td>\n",
       "      <td>Way too boring for me</td>\n",
       "      <td>1381881600</td>\n",
       "      <td>10 16, 2013</td>\n",
       "    </tr>\n",
       "    <tr>\n",
       "      <th>3</th>\n",
       "      <td>A1RJPIGRSNX4PW</td>\n",
       "      <td>B000H00VBQ</td>\n",
       "      <td>J. Kaplan \"JJ\"</td>\n",
       "      <td>[0, 0]</td>\n",
       "      <td>Mysteries are interesting.  The tension betwee...</td>\n",
       "      <td>4</td>\n",
       "      <td>Robson Green is mesmerizing</td>\n",
       "      <td>1383091200</td>\n",
       "      <td>10 30, 2013</td>\n",
       "    </tr>\n",
       "    <tr>\n",
       "      <th>4</th>\n",
       "      <td>A16XRPF40679KG</td>\n",
       "      <td>B000H00VBQ</td>\n",
       "      <td>Michael Dobey</td>\n",
       "      <td>[1, 1]</td>\n",
       "      <td>This show always is excellent, as far as briti...</td>\n",
       "      <td>5</td>\n",
       "      <td>Robson green and great writing</td>\n",
       "      <td>1234310400</td>\n",
       "      <td>02 11, 2009</td>\n",
       "    </tr>\n",
       "  </tbody>\n",
       "</table>\n",
       "</div>"
      ],
      "text/plain": [
       "       reviewerID        asin                    reviewerName helpful  \\\n",
       "0  A11N155CW1UV02  B000H00VBQ                        AdrianaM  [0, 0]   \n",
       "1  A3BC8O2KCL29V2  B000H00VBQ                         Carol T  [0, 0]   \n",
       "2   A60D5HQFOTSOM  B000H00VBQ  Daniel Cooper \"dancoopermedia\"  [0, 1]   \n",
       "3  A1RJPIGRSNX4PW  B000H00VBQ                  J. Kaplan \"JJ\"  [0, 0]   \n",
       "4  A16XRPF40679KG  B000H00VBQ                   Michael Dobey  [1, 1]   \n",
       "\n",
       "                                          reviewText  overall  \\\n",
       "0  I had big expectations because I love English ...        2   \n",
       "1  I highly recommend this series. It is a must f...        5   \n",
       "2  This one is a real snoozer. Don't believe anyt...        1   \n",
       "3  Mysteries are interesting.  The tension betwee...        4   \n",
       "4  This show always is excellent, as far as briti...        5   \n",
       "\n",
       "                          summary  unixReviewTime   reviewTime  \n",
       "0      A little bit boring for me      1399075200   05 3, 2014  \n",
       "1           Excellent Grown Up TV      1346630400   09 3, 2012  \n",
       "2           Way too boring for me      1381881600  10 16, 2013  \n",
       "3     Robson Green is mesmerizing      1383091200  10 30, 2013  \n",
       "4  Robson green and great writing      1234310400  02 11, 2009  "
      ]
     },
     "execution_count": 2,
     "metadata": {},
     "output_type": "execute_result"
    }
   ],
   "source": [
    "# load NPS data from Amazon Electronics Reviews section\n",
    "#use pd.read_json(datapath, lines=True)\n",
    "df=pd.read_json('..\\\\speech\\\\Amazon_Instant_Video_5.json' , lines=',')\n",
    "\n",
    "df.head()"
   ]
  },
  {
   "cell_type": "code",
   "execution_count": 3,
   "metadata": {},
   "outputs": [
    {
     "data": {
      "text/html": [
       "<div>\n",
       "<style scoped>\n",
       "    .dataframe tbody tr th:only-of-type {\n",
       "        vertical-align: middle;\n",
       "    }\n",
       "\n",
       "    .dataframe tbody tr th {\n",
       "        vertical-align: top;\n",
       "    }\n",
       "\n",
       "    .dataframe thead th {\n",
       "        text-align: right;\n",
       "    }\n",
       "</style>\n",
       "<table border=\"1\" class=\"dataframe\">\n",
       "  <thead>\n",
       "    <tr style=\"text-align: right;\">\n",
       "      <th></th>\n",
       "      <th>reviewText</th>\n",
       "      <th>overall</th>\n",
       "    </tr>\n",
       "  </thead>\n",
       "  <tbody>\n",
       "    <tr>\n",
       "      <th>0</th>\n",
       "      <td>I had big expectations because I love English ...</td>\n",
       "      <td>2</td>\n",
       "    </tr>\n",
       "    <tr>\n",
       "      <th>1</th>\n",
       "      <td>I highly recommend this series. It is a must f...</td>\n",
       "      <td>5</td>\n",
       "    </tr>\n",
       "    <tr>\n",
       "      <th>2</th>\n",
       "      <td>This one is a real snoozer. Don't believe anyt...</td>\n",
       "      <td>1</td>\n",
       "    </tr>\n",
       "    <tr>\n",
       "      <th>3</th>\n",
       "      <td>Mysteries are interesting.  The tension betwee...</td>\n",
       "      <td>4</td>\n",
       "    </tr>\n",
       "    <tr>\n",
       "      <th>4</th>\n",
       "      <td>This show always is excellent, as far as briti...</td>\n",
       "      <td>5</td>\n",
       "    </tr>\n",
       "    <tr>\n",
       "      <th>5</th>\n",
       "      <td>I discovered this series quite by accident. Ha...</td>\n",
       "      <td>5</td>\n",
       "    </tr>\n",
       "    <tr>\n",
       "      <th>6</th>\n",
       "      <td>It beats watching a blank screen. However, I j...</td>\n",
       "      <td>3</td>\n",
       "    </tr>\n",
       "    <tr>\n",
       "      <th>7</th>\n",
       "      <td>There are many episodes in this series, so I p...</td>\n",
       "      <td>3</td>\n",
       "    </tr>\n",
       "    <tr>\n",
       "      <th>8</th>\n",
       "      <td>This is the best of the best comedy Stand-up. ...</td>\n",
       "      <td>5</td>\n",
       "    </tr>\n",
       "    <tr>\n",
       "      <th>9</th>\n",
       "      <td>Not bad.  Didn't know any of the comedians but...</td>\n",
       "      <td>3</td>\n",
       "    </tr>\n",
       "  </tbody>\n",
       "</table>\n",
       "</div>"
      ],
      "text/plain": [
       "                                          reviewText  overall\n",
       "0  I had big expectations because I love English ...        2\n",
       "1  I highly recommend this series. It is a must f...        5\n",
       "2  This one is a real snoozer. Don't believe anyt...        1\n",
       "3  Mysteries are interesting.  The tension betwee...        4\n",
       "4  This show always is excellent, as far as briti...        5\n",
       "5  I discovered this series quite by accident. Ha...        5\n",
       "6  It beats watching a blank screen. However, I j...        3\n",
       "7  There are many episodes in this series, so I p...        3\n",
       "8  This is the best of the best comedy Stand-up. ...        5\n",
       "9  Not bad.  Didn't know any of the comedians but...        3"
      ]
     },
     "execution_count": 3,
     "metadata": {},
     "output_type": "execute_result"
    }
   ],
   "source": [
    "# filter out columns other than feedback and rating\n",
    "df = df.filter(items=[\"reviewText\", \"overall\"])\n",
    "\n",
    "# drop scores without feedback\n",
    "df = df.dropna()\n",
    "\n",
    "df[:10]"
   ]
  },
  {
   "cell_type": "markdown",
   "metadata": {},
   "source": [
    "# Data preprocessing"
   ]
  },
  {
   "cell_type": "code",
   "execution_count": 4,
   "metadata": {},
   "outputs": [],
   "source": [
    "# removing punctuation\n",
    "from string import punctuation\n",
    "df.reviewText = df.reviewText.str.replace('[^\\w\\s]','')"
   ]
  },
  {
   "cell_type": "code",
   "execution_count": 5,
   "metadata": {},
   "outputs": [],
   "source": [
    "# join all feedback and split into words\n",
    "all_text = ' '.join(df.reviewText)\n",
    "words = all_text.split()"
   ]
  },
  {
   "cell_type": "code",
   "execution_count": 6,
   "metadata": {},
   "outputs": [
    {
     "data": {
      "text/plain": [
       "['I',\n",
       " 'had',\n",
       " 'big',\n",
       " 'expectations',\n",
       " 'because',\n",
       " 'I',\n",
       " 'love',\n",
       " 'English',\n",
       " 'TV',\n",
       " 'in']"
      ]
     },
     "execution_count": 6,
     "metadata": {},
     "output_type": "execute_result"
    }
   ],
   "source": [
    "words[:10]"
   ]
  },
  {
   "cell_type": "markdown",
   "metadata": {},
   "source": [
    "# Encoding the words"
   ]
  },
  {
   "cell_type": "code",
   "execution_count": 7,
   "metadata": {},
   "outputs": [],
   "source": [
    "# making a dictionary mapping words to integers\n",
    "from collections import Counter\n",
    "counts = Counter(words)\n",
    "vocab = sorted(counts, key=counts.get, reverse=True)\n",
    "vocab_to_int = {word: ii for ii, word in enumerate(vocab, 1)} # starting at 1, as we'll later pad input vectors with 0s\n",
    "\n",
    "# converting feedback to integers\n",
    "df['feedback_ints'] = [list(map(lambda w: vocab_to_int[w], f)) for f in list(map(str.split, df.reviewText))]"
   ]
  },
  {
   "cell_type": "code",
   "execution_count": 8,
   "metadata": {},
   "outputs": [
    {
     "name": "stdout",
     "output_type": "stream",
     "text": [
      "Zero-length feedback: 0\n",
      "Maximum feedback length: 2938\n"
     ]
    }
   ],
   "source": [
    "feedback_lens = Counter([len(x) for x in df.feedback_ints])\n",
    "print(\"Zero-length feedback: {}\".format(feedback_lens[0]))\n",
    "print(\"Maximum feedback length: {}\".format(max(feedback_lens)))"
   ]
  },
  {
   "cell_type": "code",
   "execution_count": 9,
   "metadata": {},
   "outputs": [],
   "source": [
    "seq_len = 200\n",
    "\n",
    "# remove zero-length feedback\n",
    "df = df[df.feedback_ints.apply(lambda x: len(x) > 0)]\n",
    "\n",
    "# truncate feedback to 200 words\n",
    "df.feedback_ints = df.feedback_ints.apply(lambda x: x[:seq_len])\n",
    "\n",
    "# pad feedback longer than 200 words with 0s, add to a features array\n",
    "features = np.zeros((len(df.feedback_ints), seq_len), dtype=int)\n",
    "df = df.reset_index(drop=True)\n",
    "for i, row in df.iterrows():\n",
    "    features[i, -len(row.feedback_ints):] = row.feedback_ints[:seq_len]"
   ]
  },
  {
   "cell_type": "code",
   "execution_count": 10,
   "metadata": {},
   "outputs": [],
   "source": [
    "#reshape labels for sparse_softmax_cross_entropy\n",
    "labels = df.overall.values.reshape([-1, 1])"
   ]
  },
  {
   "cell_type": "code",
   "execution_count": 11,
   "metadata": {},
   "outputs": [
    {
     "data": {
      "text/plain": [
       "array([[    0,     0,     0,     0,     0,     0,     0,     0,     0,\n",
       "            0,     0,     0,     0,     0,     0,     0,     0,     0,\n",
       "            0,     0,     0,     0,     7,    87,   287,  1475,   101,\n",
       "            7,    65,   803,   144,     8,   919, 32527,     2,   578,\n",
       "          427,    17,    11,   302,     6,    50,   507,    56,   174,\n",
       "         1273,     4,    62,    37,    27],\n",
       "       [    0,     0,     0,     0,     0,     0,     0,     0,     0,\n",
       "            0,     0,     0,     0,     0,     0,     0,     0,     0,\n",
       "            7,   477,   239,    11,    30,    56,     6,     3,   289,\n",
       "           12,   350,    41,     6, 10161,     4,    51,  1369,    53,\n",
       "          336, 15504,    49,     2,   487,     4,   182,    29,   588,\n",
       "          544,  1461,    21, 44409,   448],\n",
       "       [    0,     0,     0,     0,     0,     0,     0,     0,     0,\n",
       "            0,     0,     0,     0,     0,     0,     0,     0,     0,\n",
       "            0,     0,     0,     0,     0,     0,    40,    29,     6,\n",
       "            3,   159, 23089,   749,   331,   293,    21,   374,    43,\n",
       "          971,    42,  1308,     7,    87,    98,   368,    55,     1,\n",
       "          825,   818,  5973,    58,    21],\n",
       "       [    0,     0,     0,     0,     0,     0,     0,     0,     0,\n",
       "            0,     0,     0,     0,     0,     0,     0,     0,     0,\n",
       "            0,     0,     0,     0,     0,     0,     0,     0,     0,\n",
       "            0,     0, 12815,    20,   111,    19,   913,   192, 16822,\n",
       "            2,     1,  4646,  5735,     6,    35,    17,    22,   149,\n",
       "          515,   301,   387,   473,  2928],\n",
       "       [  294,    17,   114,    20,    36,   815,     2,     3,   468,\n",
       "           86,   123,    29,   110,   212,    12,    37,   298,  1215,\n",
       "            5,   114,     3,   294,    19,  2375,     2,   843,     5,\n",
       "            1,   272,    94,  1843,  4568,    15, 32528,    45,     1,\n",
       "          262, 16822,  2357,     6,    72,   218,   643,   101,    47,\n",
       "           39,   170,    11,   317,   459],\n",
       "       [ 4368, 11535,     3,   402,   463,    18,  1471,     2,  4568,\n",
       "          613,   463,    18,    33,  1700,     5, 15505,  1225,     2,\n",
       "           55,   170,    91,  3736,  1421, 44412,    48,     5,     1,\n",
       "        10575,  1107,   225,    15,     1, 13570,  5631,  4721,  3329,\n",
       "          314,     2,    19,  1821,  1762, 26800, 12815,  3515,     8,\n",
       "            1,  3200,     6,    22,    12],\n",
       "       [    0,     0,     0,     0,     0,     0,     0,     0,     0,\n",
       "            0,     0,     0,     0,     0,     0,     0,     0,     0,\n",
       "            0,     0,     0,     0,     0,     0,     0,     0,     0,\n",
       "            0,     0,     0,    56,  7773,    81,     3,  7163,   556,\n",
       "          372,     7,    39,    96,   276,     4,    24,     8,  2895,\n",
       "           13,     4,   290,     5,   868],\n",
       "       [  320,     4,   145,     3,  2706,     5,   156,     7,    95,\n",
       "            7,    60,    25,   104,   271,     5,     3,  1618,  2328,\n",
       "           15,     4,   874,   584,    24,  1363,    43,    22,    17,\n",
       "         3028,    69,   397,    39,  1763,   214,   273,     4,   739,\n",
       "        16826,   309,   169,   397,   723,    12,   156,   411,     4,\n",
       "           80,    42,   218,     3,   619],\n",
       "       [    0,     0,     0,     0,     0,     0,     0,     0,     0,\n",
       "            0,     0,     0,     0,    40,     6,     1,   124,     5,\n",
       "            1,   124,   290, 32533,    19,   300,    10,     7,    16,\n",
       "          380,     4,    39,    51,  9402,    29,  5327,   135,   172,\n",
       "           16,    52,     7,    87,     1,   124,  3588,     7,    23,\n",
       "           87,     8,     3,   228,    73],\n",
       "       [    0,     0,     0,     0,     0,     0,     0,     0,     0,\n",
       "            0,     0,     0,     0,     0,     0,     0,     0,     0,\n",
       "            0,     0,     0,     0,     0,     0,     0,   266,   147,\n",
       "         2896,   107,   129,     5,     1,  5230,    17,    77,    73,\n",
       "          643,   318,     3,  2169,    18,    57,   563,   497,   870,\n",
       "           46,     1,   178,    28,   585]])"
      ]
     },
     "execution_count": 11,
     "metadata": {},
     "output_type": "execute_result"
    }
   ],
   "source": [
    "features[:10, 150:200]"
   ]
  },
  {
   "cell_type": "markdown",
   "metadata": {},
   "source": [
    "# Training, validation, test"
   ]
  },
  {
   "cell_type": "code",
   "execution_count": 12,
   "metadata": {},
   "outputs": [
    {
     "name": "stdout",
     "output_type": "stream",
     "text": [
      "\t\t\tFeature Shapes:\n",
      "Train set: \t\t(29700, 200) \n",
      "Validation set: \t(3713, 200) \n",
      "Test set: \t\t(3713, 200)\n"
     ]
    }
   ],
   "source": [
    "split_frac = 0.8 # fraction of data to keep in the training set\n",
    "split_idx = int(len(features)*0.8)\n",
    "train_x, val_x = features[:split_idx], features[split_idx:]\n",
    "train_y, val_y = labels[:split_idx], labels[split_idx:]\n",
    "\n",
    "test_idx = int(len(val_x)*0.5)\n",
    "val_x, test_x = val_x[:test_idx], val_x[test_idx:]\n",
    "val_y, test_y = val_y[:test_idx], val_y[test_idx:]\n",
    "\n",
    "print(\"\\t\\t\\tFeature Shapes:\")\n",
    "print(\"Train set: \\t\\t{}\".format(train_x.shape), \n",
    "      \"\\nValidation set: \\t{}\".format(val_x.shape),\n",
    "      \"\\nTest set: \\t\\t{}\".format(test_x.shape))"
   ]
  },
  {
   "cell_type": "markdown",
   "metadata": {},
   "source": [
    "# Building the graph\n",
    "\n",
    "• lstm_size: Number of units in the hidden layers in the LSTM cells. Usually larger is better performance wise. Common values are 128, 256, 512, etc.\n",
    "• lstm_layers: Number of LSTM layers in the network. Start with 1, then add more if underfitting.\n",
    "• batch_size: The number of feedback messages to feed the network in one training pass. Typically this should be set as high as you can go without running out of memory.\n",
    "• learning_rate: Learning rate"
   ]
  },
  {
   "cell_type": "code",
   "execution_count": 13,
   "metadata": {},
   "outputs": [],
   "source": [
    "lstm_size = 512\n",
    "lstm_layers = 2\n",
    "batch_size = 100\n",
    "learning_rate = 0.01"
   ]
  },
  {
   "cell_type": "markdown",
   "metadata": {},
   "source": [
    "We'll be passing in our 200 element long feedback vectors. Each batch will be batch_size vectors. We'll also be using dropout on the LSTM layer with keep_prob."
   ]
  },
  {
   "cell_type": "code",
   "execution_count": 14,
   "metadata": {},
   "outputs": [
    {
     "name": "stdout",
     "output_type": "stream",
     "text": [
      "WARNING:tensorflow:From ..\\lib\\site-packages\\tensorflow_core\\python\\compat\\v2_compat.py:88: disable_resource_variables (from tensorflow.python.ops.variable_scope) is deprecated and will be removed in a future version.\n",
      "Instructions for updating:\n",
      "non-resource variables are not supported in the long term\n"
     ]
    }
   ],
   "source": [
    "import tensorflow.compat.v1 as tf\n",
    "tf.disable_v2_behavior()\n",
    "\n",
    "n_words = len(vocab_to_int) + 1 # adding 1 because we use 0s for padding, dictionary started at 1\n",
    "\n",
    "# create the graph object\n",
    "graph = tf.Graph()\n",
    "# add nodes to the graph\n",
    "with graph.as_default():\n",
    "    inputs_ = tf.placeholder(tf.int64, [None, None], name='inputs')\n",
    "    labels_ = tf.placeholder(tf.int64, [None, 1], name='labels')\n",
    "    keep_prob = tf.placeholder(tf.float32, name='keep_prob')"
   ]
  },
  {
   "cell_type": "markdown",
   "metadata": {},
   "source": [
    "# Embedding"
   ]
  },
  {
   "cell_type": "code",
   "execution_count": 15,
   "metadata": {},
   "outputs": [],
   "source": [
    "# size of the embedding vectors (number of units in the embedding layer)\n",
    "embed_size = 300 \n",
    "\n",
    "with graph.as_default():\n",
    "    embedding = tf.Variable(tf.random_uniform((n_words, embed_size), -1, 1))\n",
    "    embed = tf.nn.embedding_lookup(embedding, inputs_)"
   ]
  },
  {
   "cell_type": "markdown",
   "metadata": {},
   "source": [
    "# LSTM cell"
   ]
  },
  {
   "cell_type": "code",
   "execution_count": 16,
   "metadata": {},
   "outputs": [
    {
     "name": "stdout",
     "output_type": "stream",
     "text": [
      "WARNING:tensorflow:From <ipython-input-16-3a381978cb53>:9: BasicLSTMCell.__init__ (from tensorflow.python.ops.rnn_cell_impl) is deprecated and will be removed in a future version.\n",
      "Instructions for updating:\n",
      "This class is equivalent as tf.keras.layers.LSTMCell, and will be replaced by that in Tensorflow 2.0.\n",
      "WARNING:tensorflow:From <ipython-input-16-3a381978cb53>:28: MultiRNNCell.__init__ (from tensorflow.python.ops.rnn_cell_impl) is deprecated and will be removed in a future version.\n",
      "Instructions for updating:\n",
      "This class is equivalent as tf.keras.layers.StackedRNNCells, and will be replaced by that in Tensorflow 2.0.\n"
     ]
    }
   ],
   "source": [
    "#import tensorflow.compat.v1 as tf\n",
    "#tf.disable_v2_behavior()\n",
    "\n",
    "with graph.as_default():\n",
    "    # Your basic LSTM cell\n",
    "    #tf.compat.v1.nn.rnn_cell.BasicLSTMCell\n",
    "    #Old code for version below Tensorflow 2.0 \n",
    "    def lstm_cell():\n",
    "        lstm = tf.compat.v1.nn.rnn_cell.BasicLSTMCell(lstm_size)\n",
    "        return lstm\n",
    "    #lstm = tf.keras.layers.LSTMCell(lstm_size)\n",
    "    \n",
    "    # Add dropout to the cell\n",
    "    drop = tf.compat.v1.nn.rnn_cell.DropoutWrapper(lstm_cell(), output_keep_prob=keep_prob)\n",
    "    \n",
    "    # Stack up multiple LSTM layers, for deep learning\n",
    "    #cell = tf.compat.v1.nn.rnn_cell.MultiRNNCell(lstm_layers)\n",
    "    #cell = tf.keras.layers.StackedRNNCells([drop] * lstm_layers)\n",
    "    \n",
    "    Input=tf.placeholder(tf.float64,shape=(None,embed_size,batch_size),name='input')\n",
    "    Expected_o=tf.placeholder(tf.float64,shape=(None,embed_size,lstm_size),name='Expected_o')\n",
    "    #creation of the network\n",
    "\n",
    "    initializer = tf.random_uniform_initializer(-1, 1)      \n",
    "    #layers = [tf.nn.rnn_cell.GRUCell([lstm_layer,kernel_initializer=initializer)]\n",
    "             \n",
    "    \n",
    "    rnn_cells = tf.nn.rnn_cell.MultiRNNCell([lstm_cell() for _ in range(lstm_layers)]) \n",
    "  \n",
    "    \n",
    "    # Getting an initial state of all zeros\n",
    "    initial_state = rnn_cells.zero_state(batch_size, tf.float32)"
   ]
  },
  {
   "cell_type": "markdown",
   "metadata": {},
   "source": [
    "# RNN forward pass"
   ]
  },
  {
   "cell_type": "code",
   "execution_count": 17,
   "metadata": {},
   "outputs": [
    {
     "name": "stdout",
     "output_type": "stream",
     "text": [
      "WARNING:tensorflow:From <ipython-input-17-c4c27641595d>:2: dynamic_rnn (from tensorflow.python.ops.rnn) is deprecated and will be removed in a future version.\n",
      "Instructions for updating:\n",
      "Please use `keras.layers.RNN(cell)`, which is equivalent to this API\n",
      "WARNING:tensorflow:From C:\\Users\\bhise\\Anaconda3\\envs\\speech\\lib\\site-packages\\tensorflow_core\\python\\ops\\rnn_cell_impl.py:735: Layer.add_variable (from tensorflow.python.keras.engine.base_layer) is deprecated and will be removed in a future version.\n",
      "Instructions for updating:\n",
      "Please use `layer.add_weight` method instead.\n",
      "WARNING:tensorflow:From C:\\Users\\bhise\\Anaconda3\\envs\\speech\\lib\\site-packages\\tensorflow_core\\python\\ops\\rnn_cell_impl.py:739: calling Zeros.__init__ (from tensorflow.python.ops.init_ops) with dtype is deprecated and will be removed in a future version.\n",
      "Instructions for updating:\n",
      "Call initializer instance with the dtype argument instead of passing it to the constructor\n"
     ]
    }
   ],
   "source": [
    "with graph.as_default():\n",
    "    outputs, final_state = tf.nn.dynamic_rnn(rnn_cells, embed,initial_state=initial_state)\n",
    "    #outputs, states = tf.nn.dynamic_rnn(cell, embed, dtype=tf.float32)\n",
    "    #self._output, out_state = tf.nn.dynamic_rnn(cell=rnn_cells,inputs= self._Input, dtype=tf.float64)"
   ]
  },
  {
   "cell_type": "markdown",
   "metadata": {},
   "source": [
    "# Output"
   ]
  },
  {
   "cell_type": "code",
   "execution_count": 18,
   "metadata": {},
   "outputs": [
    {
     "name": "stdout",
     "output_type": "stream",
     "text": [
      "WARNING:tensorflow:From <ipython-input-18-3af5da4fe5bc>:2: dense (from tensorflow.python.layers.core) is deprecated and will be removed in a future version.\n",
      "Instructions for updating:\n",
      "Use keras.layers.Dense instead.\n",
      "WARNING:tensorflow:From C:\\Users\\bhise\\Anaconda3\\envs\\speech\\lib\\site-packages\\tensorflow_core\\python\\layers\\core.py:187: Layer.apply (from tensorflow.python.keras.engine.base_layer) is deprecated and will be removed in a future version.\n",
      "Instructions for updating:\n",
      "Please use `layer.__call__` method instead.\n"
     ]
    }
   ],
   "source": [
    "with graph.as_default():\n",
    "    logits = tf.layers.dense(inputs=outputs[:, -1], units=11)\n",
    "    loss = tf.losses.sparse_softmax_cross_entropy(labels=labels_, logits=logits)\n",
    "    \n",
    "    optimizer = tf.train.AdamOptimizer(learning_rate).minimize(loss)"
   ]
  },
  {
   "cell_type": "markdown",
   "metadata": {},
   "source": [
    "# Validation accuracy"
   ]
  },
  {
   "cell_type": "code",
   "execution_count": 19,
   "metadata": {},
   "outputs": [],
   "source": [
    "#Here we add a few nodes to calculate the accuracy which we'll use in the validation pass\n",
    "\n",
    "with graph.as_default():\n",
    "    correct_prediction = tf.equal(tf.argmax(logits, 1), labels_)\n",
    "    correct_prediction = tf.cast(correct_prediction, tf.float32)\n",
    "    accuracy = tf.reduce_mean(correct_prediction)"
   ]
  },
  {
   "cell_type": "markdown",
   "metadata": {},
   "source": [
    "Batching\n",
    "This is a simple function for returning batches from the data. First it removes data such that we only have full batches. Then it iterates through the x and y arrays and returns slices out of those arrays with size [batch_size]."
   ]
  },
  {
   "cell_type": "code",
   "execution_count": 20,
   "metadata": {},
   "outputs": [],
   "source": [
    "def get_batches(x, y, batch_size=100):\n",
    "    \n",
    "    n_batches = len(x)//batch_size\n",
    "    x, y = x[:n_batches*batch_size], y[:n_batches*batch_size]\n",
    "    for ii in range(0, len(x), batch_size):\n",
    "        yield x[ii:ii+batch_size], y[ii:ii+batch_size]"
   ]
  },
  {
   "cell_type": "markdown",
   "metadata": {},
   "source": [
    "# Training"
   ]
  },
  {
   "cell_type": "code",
   "execution_count": 21,
   "metadata": {},
   "outputs": [
    {
     "name": "stdout",
     "output_type": "stream",
     "text": [
      "Epoch: 0/3 Iteration: 5 Train loss: 1.135\n",
      "Epoch: 0/3 Iteration: 10 Train loss: 1.082\n",
      "Epoch: 0/3 Iteration: 15 Train loss: 1.062\n",
      "Epoch: 0/3 Iteration: 20 Train loss: 1.237\n",
      "Epoch: 0/3 Iteration: 25 Train loss: 0.853\n",
      "Val acc: 0.582\n",
      "Epoch: 0/3 Iteration: 30 Train loss: 1.171\n",
      "Epoch: 0/3 Iteration: 35 Train loss: 1.274\n",
      "Epoch: 0/3 Iteration: 40 Train loss: 1.050\n",
      "Epoch: 0/3 Iteration: 45 Train loss: 1.293\n",
      "Epoch: 0/3 Iteration: 50 Train loss: 0.772\n",
      "Val acc: 0.582\n",
      "Epoch: 0/3 Iteration: 55 Train loss: 0.906\n",
      "Epoch: 0/3 Iteration: 60 Train loss: 1.248\n",
      "Epoch: 0/3 Iteration: 65 Train loss: 1.451\n",
      "Epoch: 0/3 Iteration: 70 Train loss: 1.552\n",
      "Epoch: 0/3 Iteration: 75 Train loss: 0.679\n",
      "Val acc: 0.582\n",
      "Epoch: 0/3 Iteration: 80 Train loss: 1.783\n",
      "Epoch: 0/3 Iteration: 85 Train loss: 0.903\n",
      "Epoch: 0/3 Iteration: 90 Train loss: 1.218\n",
      "Epoch: 0/3 Iteration: 95 Train loss: 1.112\n",
      "Epoch: 0/3 Iteration: 100 Train loss: 1.021\n",
      "Val acc: 0.582\n",
      "Epoch: 0/3 Iteration: 105 Train loss: 1.337\n",
      "Epoch: 0/3 Iteration: 110 Train loss: 1.228\n",
      "Epoch: 0/3 Iteration: 115 Train loss: 1.296\n",
      "Epoch: 0/3 Iteration: 120 Train loss: 1.164\n",
      "Epoch: 0/3 Iteration: 125 Train loss: 1.452\n",
      "Val acc: 0.582\n",
      "Epoch: 0/3 Iteration: 130 Train loss: 1.495\n",
      "Epoch: 0/3 Iteration: 135 Train loss: 1.359\n",
      "Epoch: 0/3 Iteration: 140 Train loss: 1.392\n",
      "Epoch: 0/3 Iteration: 145 Train loss: 1.093\n",
      "Epoch: 0/3 Iteration: 150 Train loss: 1.113\n",
      "Val acc: 0.582\n",
      "Epoch: 0/3 Iteration: 155 Train loss: 0.944\n",
      "Epoch: 0/3 Iteration: 160 Train loss: 1.297\n",
      "Epoch: 0/3 Iteration: 165 Train loss: 1.671\n",
      "Epoch: 0/3 Iteration: 170 Train loss: 1.648\n",
      "Epoch: 0/3 Iteration: 175 Train loss: 0.628\n",
      "Val acc: 0.582\n",
      "Epoch: 0/3 Iteration: 180 Train loss: 0.743\n",
      "Epoch: 0/3 Iteration: 185 Train loss: 0.873\n",
      "Epoch: 0/3 Iteration: 190 Train loss: 1.071\n",
      "Epoch: 0/3 Iteration: 195 Train loss: 1.700\n",
      "Epoch: 0/3 Iteration: 200 Train loss: 1.209\n",
      "Val acc: 0.582\n",
      "Epoch: 0/3 Iteration: 205 Train loss: 0.713\n",
      "Epoch: 0/3 Iteration: 210 Train loss: 1.145\n",
      "Epoch: 0/3 Iteration: 215 Train loss: 1.297\n",
      "Epoch: 0/3 Iteration: 220 Train loss: 1.098\n",
      "Epoch: 0/3 Iteration: 225 Train loss: 1.038\n",
      "Val acc: 0.582\n",
      "Epoch: 0/3 Iteration: 230 Train loss: 1.448\n",
      "Epoch: 0/3 Iteration: 235 Train loss: 1.491\n",
      "Epoch: 0/3 Iteration: 240 Train loss: 1.647\n",
      "Epoch: 0/3 Iteration: 245 Train loss: 1.533\n",
      "Epoch: 0/3 Iteration: 250 Train loss: 2.089\n",
      "Val acc: 0.582\n",
      "Epoch: 0/3 Iteration: 255 Train loss: 0.971\n",
      "Epoch: 0/3 Iteration: 260 Train loss: 0.995\n",
      "Epoch: 0/3 Iteration: 265 Train loss: 1.594\n",
      "Epoch: 0/3 Iteration: 270 Train loss: 1.390\n",
      "Epoch: 0/3 Iteration: 275 Train loss: 0.953\n",
      "Val acc: 0.582\n",
      "Epoch: 0/3 Iteration: 280 Train loss: 1.319\n",
      "Epoch: 0/3 Iteration: 285 Train loss: 1.579\n",
      "Epoch: 0/3 Iteration: 290 Train loss: 1.226\n",
      "Epoch: 0/3 Iteration: 295 Train loss: 1.052\n",
      "Epoch: 1/3 Iteration: 300 Train loss: 1.092\n",
      "Val acc: 0.582\n",
      "Epoch: 1/3 Iteration: 305 Train loss: 1.234\n",
      "Epoch: 1/3 Iteration: 310 Train loss: 0.985\n",
      "Epoch: 1/3 Iteration: 315 Train loss: 0.819\n",
      "Epoch: 1/3 Iteration: 320 Train loss: 0.895\n",
      "Epoch: 1/3 Iteration: 325 Train loss: 0.979\n",
      "Val acc: 0.582\n",
      "Epoch: 1/3 Iteration: 330 Train loss: 1.311\n",
      "Epoch: 1/3 Iteration: 335 Train loss: 1.491\n",
      "Epoch: 1/3 Iteration: 340 Train loss: 1.565\n",
      "Epoch: 1/3 Iteration: 345 Train loss: 0.813\n",
      "Epoch: 1/3 Iteration: 350 Train loss: 1.250\n",
      "Val acc: 0.582\n",
      "Epoch: 1/3 Iteration: 355 Train loss: 0.863\n",
      "Epoch: 1/3 Iteration: 360 Train loss: 1.253\n",
      "Epoch: 1/3 Iteration: 365 Train loss: 1.362\n",
      "Epoch: 1/3 Iteration: 370 Train loss: 1.128\n",
      "Epoch: 1/3 Iteration: 375 Train loss: 0.889\n",
      "Val acc: 0.582\n",
      "Epoch: 1/3 Iteration: 380 Train loss: 1.049\n",
      "Epoch: 1/3 Iteration: 385 Train loss: 1.571\n",
      "Epoch: 1/3 Iteration: 390 Train loss: 1.162\n",
      "Epoch: 1/3 Iteration: 395 Train loss: 1.107\n",
      "Epoch: 1/3 Iteration: 400 Train loss: 1.108\n",
      "Val acc: 0.280\n",
      "Epoch: 1/3 Iteration: 405 Train loss: 0.920\n",
      "Epoch: 1/3 Iteration: 410 Train loss: 1.265\n",
      "Epoch: 1/3 Iteration: 415 Train loss: 1.212\n",
      "Epoch: 1/3 Iteration: 420 Train loss: 1.084\n",
      "Epoch: 1/3 Iteration: 425 Train loss: 1.309\n",
      "Val acc: 0.578\n",
      "Epoch: 1/3 Iteration: 430 Train loss: 1.036\n",
      "Epoch: 1/3 Iteration: 435 Train loss: 1.304\n",
      "Epoch: 1/3 Iteration: 440 Train loss: 1.285\n",
      "Epoch: 1/3 Iteration: 445 Train loss: 1.241\n",
      "Epoch: 1/3 Iteration: 450 Train loss: 1.022\n",
      "Val acc: 0.194\n",
      "Epoch: 1/3 Iteration: 455 Train loss: 0.926\n",
      "Epoch: 1/3 Iteration: 460 Train loss: 1.083\n",
      "Epoch: 1/3 Iteration: 465 Train loss: 1.075\n",
      "Epoch: 1/3 Iteration: 470 Train loss: 1.025\n",
      "Epoch: 1/3 Iteration: 475 Train loss: 1.040\n",
      "Val acc: 0.581\n",
      "Epoch: 1/3 Iteration: 480 Train loss: 0.810\n",
      "Epoch: 1/3 Iteration: 485 Train loss: 1.202\n",
      "Epoch: 1/3 Iteration: 490 Train loss: 1.093\n",
      "Epoch: 1/3 Iteration: 495 Train loss: 1.313\n",
      "Epoch: 1/3 Iteration: 500 Train loss: 0.937\n",
      "Val acc: 0.582\n",
      "Epoch: 1/3 Iteration: 505 Train loss: 1.437\n",
      "Epoch: 1/3 Iteration: 510 Train loss: 1.315\n",
      "Epoch: 1/3 Iteration: 515 Train loss: 1.389\n",
      "Epoch: 1/3 Iteration: 520 Train loss: 1.196\n",
      "Epoch: 1/3 Iteration: 525 Train loss: 0.967\n",
      "Val acc: 0.582\n",
      "Epoch: 1/3 Iteration: 530 Train loss: 1.181\n",
      "Epoch: 1/3 Iteration: 535 Train loss: 1.900\n",
      "Epoch: 1/3 Iteration: 540 Train loss: 1.714\n",
      "Epoch: 1/3 Iteration: 545 Train loss: 1.272\n",
      "Epoch: 1/3 Iteration: 550 Train loss: 1.369\n",
      "Val acc: 0.582\n",
      "Epoch: 1/3 Iteration: 555 Train loss: 1.262\n",
      "Epoch: 1/3 Iteration: 560 Train loss: 1.413\n",
      "Epoch: 1/3 Iteration: 565 Train loss: 1.265\n",
      "Epoch: 1/3 Iteration: 570 Train loss: 1.678\n",
      "Epoch: 1/3 Iteration: 575 Train loss: 0.940\n",
      "Val acc: 0.582\n",
      "Epoch: 1/3 Iteration: 580 Train loss: 1.594\n",
      "Epoch: 1/3 Iteration: 585 Train loss: 1.285\n",
      "Epoch: 1/3 Iteration: 590 Train loss: 1.359\n",
      "Epoch: 2/3 Iteration: 595 Train loss: 1.208\n",
      "Epoch: 2/3 Iteration: 600 Train loss: 1.036\n",
      "Val acc: 0.582\n",
      "Epoch: 2/3 Iteration: 605 Train loss: 0.980\n",
      "Epoch: 2/3 Iteration: 610 Train loss: 1.214\n",
      "Epoch: 2/3 Iteration: 615 Train loss: 1.451\n",
      "Epoch: 2/3 Iteration: 620 Train loss: 1.039\n",
      "Epoch: 2/3 Iteration: 625 Train loss: 1.532\n",
      "Val acc: 0.582\n",
      "Epoch: 2/3 Iteration: 630 Train loss: 1.228\n",
      "Epoch: 2/3 Iteration: 635 Train loss: 1.164\n",
      "Epoch: 2/3 Iteration: 640 Train loss: 1.314\n",
      "Epoch: 2/3 Iteration: 645 Train loss: 1.346\n",
      "Epoch: 2/3 Iteration: 650 Train loss: 0.748\n",
      "Val acc: 0.582\n",
      "Epoch: 2/3 Iteration: 655 Train loss: 1.186\n",
      "Epoch: 2/3 Iteration: 660 Train loss: 1.220\n",
      "Epoch: 2/3 Iteration: 665 Train loss: 1.047\n",
      "Epoch: 2/3 Iteration: 670 Train loss: 1.128\n",
      "Epoch: 2/3 Iteration: 675 Train loss: 1.337\n",
      "Val acc: 0.582\n",
      "Epoch: 2/3 Iteration: 680 Train loss: 1.437\n",
      "Epoch: 2/3 Iteration: 685 Train loss: 0.879\n",
      "Epoch: 2/3 Iteration: 690 Train loss: 0.917\n",
      "Epoch: 2/3 Iteration: 695 Train loss: 1.169\n",
      "Epoch: 2/3 Iteration: 700 Train loss: 1.235\n",
      "Val acc: 0.582\n",
      "Epoch: 2/3 Iteration: 705 Train loss: 1.232\n",
      "Epoch: 2/3 Iteration: 710 Train loss: 1.439\n",
      "Epoch: 2/3 Iteration: 715 Train loss: 1.123\n",
      "Epoch: 2/3 Iteration: 720 Train loss: 1.758\n",
      "Epoch: 2/3 Iteration: 725 Train loss: 1.205\n",
      "Val acc: 0.194\n",
      "Epoch: 2/3 Iteration: 730 Train loss: 1.231\n",
      "Epoch: 2/3 Iteration: 735 Train loss: 1.488\n",
      "Epoch: 2/3 Iteration: 740 Train loss: 0.898\n",
      "Epoch: 2/3 Iteration: 745 Train loss: 1.480\n",
      "Epoch: 2/3 Iteration: 750 Train loss: 1.366\n",
      "Val acc: 0.582\n",
      "Epoch: 2/3 Iteration: 755 Train loss: 1.097\n",
      "Epoch: 2/3 Iteration: 760 Train loss: 1.247\n",
      "Epoch: 2/3 Iteration: 765 Train loss: 0.940\n",
      "Epoch: 2/3 Iteration: 770 Train loss: 0.896\n",
      "Epoch: 2/3 Iteration: 775 Train loss: 0.906\n",
      "Val acc: 0.582\n",
      "Epoch: 2/3 Iteration: 780 Train loss: 0.916\n",
      "Epoch: 2/3 Iteration: 785 Train loss: 1.108\n",
      "Epoch: 2/3 Iteration: 790 Train loss: 1.754\n",
      "Epoch: 2/3 Iteration: 795 Train loss: 1.463\n",
      "Epoch: 2/3 Iteration: 800 Train loss: 1.388\n",
      "Val acc: 0.582\n",
      "Epoch: 2/3 Iteration: 805 Train loss: 1.468\n",
      "Epoch: 2/3 Iteration: 810 Train loss: 1.068\n",
      "Epoch: 2/3 Iteration: 815 Train loss: 0.971\n",
      "Epoch: 2/3 Iteration: 820 Train loss: 1.496\n",
      "Epoch: 2/3 Iteration: 825 Train loss: 1.172\n",
      "Val acc: 0.582\n",
      "Epoch: 2/3 Iteration: 830 Train loss: 1.521\n",
      "Epoch: 2/3 Iteration: 835 Train loss: 1.780\n",
      "Epoch: 2/3 Iteration: 840 Train loss: 1.657\n",
      "Epoch: 2/3 Iteration: 845 Train loss: 1.212\n",
      "Epoch: 2/3 Iteration: 850 Train loss: 0.959\n",
      "Val acc: 0.582\n",
      "Epoch: 2/3 Iteration: 855 Train loss: 1.056\n",
      "Epoch: 2/3 Iteration: 860 Train loss: 1.507\n",
      "Epoch: 2/3 Iteration: 865 Train loss: 1.507\n",
      "Epoch: 2/3 Iteration: 870 Train loss: 0.921\n",
      "Epoch: 2/3 Iteration: 875 Train loss: 1.197\n",
      "Val acc: 0.582\n"
     ]
    },
    {
     "name": "stdout",
     "output_type": "stream",
     "text": [
      "Epoch: 2/3 Iteration: 880 Train loss: 1.461\n",
      "Epoch: 2/3 Iteration: 885 Train loss: 1.584\n",
      "Epoch: 2/3 Iteration: 890 Train loss: 1.011\n"
     ]
    }
   ],
   "source": [
    "epochs = 3\n",
    "\n",
    "with graph.as_default():\n",
    "    saver = tf.train.Saver()\n",
    "\n",
    "with tf.Session(graph=graph) as sess:\n",
    "    sess.run(tf.global_variables_initializer())\n",
    "    iteration = 1\n",
    "    for e in range(epochs):\n",
    "        state = sess.run(initial_state)\n",
    "        \n",
    "        for ii, (x, y) in enumerate(get_batches(train_x, train_y, batch_size), 1):\n",
    "            feed = {inputs_: x,\n",
    "                    labels_: y,\n",
    "                    keep_prob: 0.5,\n",
    "                    initial_state: state}\n",
    "            loss_val, state, _ = sess.run([loss, final_state, optimizer], feed_dict=feed)\n",
    "            \n",
    "            if iteration%5==0:\n",
    "                print(\"Epoch: {}/{}\".format(e, epochs),\n",
    "                      \"Iteration: {}\".format(iteration),\n",
    "                      \"Train loss: {:.3f}\".format(loss_val))\n",
    "\n",
    "            if iteration%25==0:\n",
    "                val_acc = []\n",
    "                val_state = sess.run(rnn_cells.zero_state(batch_size, tf.float32))\n",
    "                for x, y in get_batches(val_x, val_y, batch_size):\n",
    "                    feed = {inputs_: x,\n",
    "                            labels_: y,\n",
    "                            keep_prob: 1,\n",
    "                            initial_state: val_state}\n",
    "                    batch_acc, val_state = sess.run([accuracy, final_state], feed_dict=feed)\n",
    "                    val_acc.append(batch_acc)\n",
    "                print(\"Val acc: {:.3f}\".format(np.mean(val_acc)))\n",
    "            iteration +=1\n",
    "    saver.save(sess, \"checkpoints/nps.ckpt\")"
   ]
  },
  {
   "cell_type": "code",
   "execution_count": 22,
   "metadata": {},
   "outputs": [
    {
     "name": "stdout",
     "output_type": "stream",
     "text": [
      "INFO:tensorflow:Restoring parameters from checkpoints\\nps.ckpt\n",
      "Test accuracy: 0.455\n"
     ]
    }
   ],
   "source": [
    "test_acc = []\n",
    "with tf.Session(graph=graph) as sess:\n",
    "    saver.restore(sess, tf.train.latest_checkpoint('checkpoints'))\n",
    "    test_state = sess.run(rnn_cells.zero_state(batch_size, tf.float32))\n",
    "    for ii, (x, y) in enumerate(get_batches(test_x, test_y, batch_size), 1):\n",
    "        feed = {inputs_: x,\n",
    "                labels_: y,\n",
    "                keep_prob: 1,\n",
    "                initial_state: test_state}\n",
    "        batch_acc, test_state = sess.run([accuracy, final_state], feed_dict=feed)\n",
    "        test_acc.append(batch_acc)\n",
    "    print(\"Test accuracy: {:.3f}\".format(np.mean(test_acc)))"
   ]
  },
  {
   "cell_type": "code",
   "execution_count": null,
   "metadata": {},
   "outputs": [],
   "source": []
  }
 ],
 "metadata": {
  "kernelspec": {
   "display_name": "speech",
   "language": "python",
   "name": "speech"
  },
  "language_info": {
   "codemirror_mode": {
    "name": "ipython",
    "version": 3
   },
   "file_extension": ".py",
   "mimetype": "text/x-python",
   "name": "python",
   "nbconvert_exporter": "python",
   "pygments_lexer": "ipython3",
   "version": "3.7.9"
  }
 },
 "nbformat": 4,
 "nbformat_minor": 4
}
